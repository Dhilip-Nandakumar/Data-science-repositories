{
 "cells": [
  {
   "cell_type": "code",
   "execution_count": 12,
   "id": "89f9a727",
   "metadata": {},
   "outputs": [],
   "source": [
    "import numpy as np\n",
    "import pandas as pd\n",
    "import scipy.stats as stats\n",
    "import seaborn as sns \n",
    "import matplotlib.pyplot as plt"
   ]
  },
  {
   "cell_type": "code",
   "execution_count": 13,
   "id": "cc7a8485",
   "metadata": {},
   "outputs": [],
   "source": [
    "#1.\n",
    "fifa = pd.read_csv('fifa_stats.csv')"
   ]
  },
  {
   "cell_type": "code",
   "execution_count": 14,
   "id": "23dba589",
   "metadata": {},
   "outputs": [
    {
     "data": {
      "text/html": [
       "<div>\n",
       "<style scoped>\n",
       "    .dataframe tbody tr th:only-of-type {\n",
       "        vertical-align: middle;\n",
       "    }\n",
       "\n",
       "    .dataframe tbody tr th {\n",
       "        vertical-align: top;\n",
       "    }\n",
       "\n",
       "    .dataframe thead th {\n",
       "        text-align: right;\n",
       "    }\n",
       "</style>\n",
       "<table border=\"1\" class=\"dataframe\">\n",
       "  <thead>\n",
       "    <tr style=\"text-align: right;\">\n",
       "      <th></th>\n",
       "      <th>Name</th>\n",
       "      <th>Age</th>\n",
       "      <th>Nationality</th>\n",
       "      <th>Overall_rating</th>\n",
       "      <th>Potential</th>\n",
       "      <th>Club</th>\n",
       "      <th>Preferred Foot</th>\n",
       "      <th>International Reputation</th>\n",
       "      <th>Weak Foot</th>\n",
       "      <th>Skill Moves</th>\n",
       "      <th>Work Rate</th>\n",
       "      <th>Position</th>\n",
       "      <th>Jersey Number</th>\n",
       "      <th>Height</th>\n",
       "      <th>Weight</th>\n",
       "    </tr>\n",
       "  </thead>\n",
       "  <tbody>\n",
       "    <tr>\n",
       "      <th>0</th>\n",
       "      <td>L. Messi</td>\n",
       "      <td>31</td>\n",
       "      <td>Argentina</td>\n",
       "      <td>94</td>\n",
       "      <td>94</td>\n",
       "      <td>FC Barcelona</td>\n",
       "      <td>Left</td>\n",
       "      <td>5</td>\n",
       "      <td>4</td>\n",
       "      <td>4</td>\n",
       "      <td>Medium/ Medium</td>\n",
       "      <td>RF</td>\n",
       "      <td>10</td>\n",
       "      <td>5.583333</td>\n",
       "      <td>159</td>\n",
       "    </tr>\n",
       "    <tr>\n",
       "      <th>1</th>\n",
       "      <td>Cristiano Ronaldo</td>\n",
       "      <td>33</td>\n",
       "      <td>Portugal</td>\n",
       "      <td>94</td>\n",
       "      <td>94</td>\n",
       "      <td>Juventus</td>\n",
       "      <td>Right</td>\n",
       "      <td>5</td>\n",
       "      <td>4</td>\n",
       "      <td>5</td>\n",
       "      <td>High/ Low</td>\n",
       "      <td>ST</td>\n",
       "      <td>7</td>\n",
       "      <td>6.166667</td>\n",
       "      <td>183</td>\n",
       "    </tr>\n",
       "    <tr>\n",
       "      <th>2</th>\n",
       "      <td>Neymar Jr</td>\n",
       "      <td>26</td>\n",
       "      <td>Brazil</td>\n",
       "      <td>92</td>\n",
       "      <td>93</td>\n",
       "      <td>Paris Saint-Germain</td>\n",
       "      <td>Right</td>\n",
       "      <td>5</td>\n",
       "      <td>5</td>\n",
       "      <td>5</td>\n",
       "      <td>High/ Medium</td>\n",
       "      <td>LW</td>\n",
       "      <td>10</td>\n",
       "      <td>5.750000</td>\n",
       "      <td>150</td>\n",
       "    </tr>\n",
       "    <tr>\n",
       "      <th>3</th>\n",
       "      <td>De Gea</td>\n",
       "      <td>27</td>\n",
       "      <td>Spain</td>\n",
       "      <td>91</td>\n",
       "      <td>93</td>\n",
       "      <td>Manchester United</td>\n",
       "      <td>Right</td>\n",
       "      <td>4</td>\n",
       "      <td>3</td>\n",
       "      <td>1</td>\n",
       "      <td>Medium/ Medium</td>\n",
       "      <td>GK</td>\n",
       "      <td>1</td>\n",
       "      <td>6.333333</td>\n",
       "      <td>168</td>\n",
       "    </tr>\n",
       "    <tr>\n",
       "      <th>4</th>\n",
       "      <td>K. De Bruyne</td>\n",
       "      <td>27</td>\n",
       "      <td>Belgium</td>\n",
       "      <td>91</td>\n",
       "      <td>92</td>\n",
       "      <td>Manchester City</td>\n",
       "      <td>Right</td>\n",
       "      <td>4</td>\n",
       "      <td>5</td>\n",
       "      <td>4</td>\n",
       "      <td>High/ High</td>\n",
       "      <td>RCM</td>\n",
       "      <td>7</td>\n",
       "      <td>5.083333</td>\n",
       "      <td>154</td>\n",
       "    </tr>\n",
       "    <tr>\n",
       "      <th>...</th>\n",
       "      <td>...</td>\n",
       "      <td>...</td>\n",
       "      <td>...</td>\n",
       "      <td>...</td>\n",
       "      <td>...</td>\n",
       "      <td>...</td>\n",
       "      <td>...</td>\n",
       "      <td>...</td>\n",
       "      <td>...</td>\n",
       "      <td>...</td>\n",
       "      <td>...</td>\n",
       "      <td>...</td>\n",
       "      <td>...</td>\n",
       "      <td>...</td>\n",
       "      <td>...</td>\n",
       "    </tr>\n",
       "    <tr>\n",
       "      <th>1995</th>\n",
       "      <td>R. BorrÃ©</td>\n",
       "      <td>22</td>\n",
       "      <td>Colombia</td>\n",
       "      <td>75</td>\n",
       "      <td>82</td>\n",
       "      <td>River Plate</td>\n",
       "      <td>Right</td>\n",
       "      <td>1</td>\n",
       "      <td>3</td>\n",
       "      <td>4</td>\n",
       "      <td>High/ Medium</td>\n",
       "      <td>RS</td>\n",
       "      <td>19</td>\n",
       "      <td>5.750000</td>\n",
       "      <td>157</td>\n",
       "    </tr>\n",
       "    <tr>\n",
       "      <th>1996</th>\n",
       "      <td>E. ZukanoviÄ‡</td>\n",
       "      <td>31</td>\n",
       "      <td>Bosnia Herzegovina</td>\n",
       "      <td>75</td>\n",
       "      <td>75</td>\n",
       "      <td>Genoa</td>\n",
       "      <td>Left</td>\n",
       "      <td>2</td>\n",
       "      <td>3</td>\n",
       "      <td>2</td>\n",
       "      <td>Low/ High</td>\n",
       "      <td>CB</td>\n",
       "      <td>87</td>\n",
       "      <td>6.250000</td>\n",
       "      <td>187</td>\n",
       "    </tr>\n",
       "    <tr>\n",
       "      <th>1997</th>\n",
       "      <td>A. Elis</td>\n",
       "      <td>22</td>\n",
       "      <td>Honduras</td>\n",
       "      <td>75</td>\n",
       "      <td>82</td>\n",
       "      <td>Houston Dynamo</td>\n",
       "      <td>Right</td>\n",
       "      <td>1</td>\n",
       "      <td>4</td>\n",
       "      <td>4</td>\n",
       "      <td>High/ Medium</td>\n",
       "      <td>RM</td>\n",
       "      <td>17</td>\n",
       "      <td>5.083333</td>\n",
       "      <td>170</td>\n",
       "    </tr>\n",
       "    <tr>\n",
       "      <th>1998</th>\n",
       "      <td>M. FernÃ¡ndez</td>\n",
       "      <td>32</td>\n",
       "      <td>Chile</td>\n",
       "      <td>75</td>\n",
       "      <td>75</td>\n",
       "      <td>Club Necaxa</td>\n",
       "      <td>Right</td>\n",
       "      <td>2</td>\n",
       "      <td>4</td>\n",
       "      <td>5</td>\n",
       "      <td>Medium/ Medium</td>\n",
       "      <td>LDM</td>\n",
       "      <td>14</td>\n",
       "      <td>5.083333</td>\n",
       "      <td>159</td>\n",
       "    </tr>\n",
       "    <tr>\n",
       "      <th>1999</th>\n",
       "      <td>D. RodrÃ­guez</td>\n",
       "      <td>28</td>\n",
       "      <td>Uruguay</td>\n",
       "      <td>75</td>\n",
       "      <td>75</td>\n",
       "      <td>Club Tijuana</td>\n",
       "      <td>Right</td>\n",
       "      <td>1</td>\n",
       "      <td>3</td>\n",
       "      <td>2</td>\n",
       "      <td>Medium/ Medium</td>\n",
       "      <td>RCM</td>\n",
       "      <td>15</td>\n",
       "      <td>5.583333</td>\n",
       "      <td>143</td>\n",
       "    </tr>\n",
       "  </tbody>\n",
       "</table>\n",
       "<p>2000 rows × 15 columns</p>\n",
       "</div>"
      ],
      "text/plain": [
       "                   Name  Age         Nationality  Overall_rating  Potential  \\\n",
       "0              L. Messi   31           Argentina              94         94   \n",
       "1     Cristiano Ronaldo   33            Portugal              94         94   \n",
       "2             Neymar Jr   26              Brazil              92         93   \n",
       "3                De Gea   27               Spain              91         93   \n",
       "4          K. De Bruyne   27             Belgium              91         92   \n",
       "...                 ...  ...                 ...             ...        ...   \n",
       "1995          R. BorrÃ©   22            Colombia              75         82   \n",
       "1996      E. ZukanoviÄ‡   31  Bosnia Herzegovina              75         75   \n",
       "1997            A. Elis   22            Honduras              75         82   \n",
       "1998      M. FernÃ¡ndez   32               Chile              75         75   \n",
       "1999      D. RodrÃ­guez   28             Uruguay              75         75   \n",
       "\n",
       "                     Club Preferred Foot  International Reputation  Weak Foot  \\\n",
       "0            FC Barcelona           Left                         5          4   \n",
       "1                Juventus          Right                         5          4   \n",
       "2     Paris Saint-Germain          Right                         5          5   \n",
       "3       Manchester United          Right                         4          3   \n",
       "4         Manchester City          Right                         4          5   \n",
       "...                   ...            ...                       ...        ...   \n",
       "1995          River Plate          Right                         1          3   \n",
       "1996                Genoa           Left                         2          3   \n",
       "1997       Houston Dynamo          Right                         1          4   \n",
       "1998          Club Necaxa          Right                         2          4   \n",
       "1999         Club Tijuana          Right                         1          3   \n",
       "\n",
       "      Skill Moves       Work Rate Position  Jersey Number    Height  Weight  \n",
       "0               4  Medium/ Medium       RF             10  5.583333     159  \n",
       "1               5       High/ Low       ST              7  6.166667     183  \n",
       "2               5    High/ Medium       LW             10  5.750000     150  \n",
       "3               1  Medium/ Medium       GK              1  6.333333     168  \n",
       "4               4      High/ High      RCM              7  5.083333     154  \n",
       "...           ...             ...      ...            ...       ...     ...  \n",
       "1995            4    High/ Medium       RS             19  5.750000     157  \n",
       "1996            2       Low/ High       CB             87  6.250000     187  \n",
       "1997            4    High/ Medium       RM             17  5.083333     170  \n",
       "1998            5  Medium/ Medium      LDM             14  5.083333     159  \n",
       "1999            2  Medium/ Medium      RCM             15  5.583333     143  \n",
       "\n",
       "[2000 rows x 15 columns]"
      ]
     },
     "execution_count": 14,
     "metadata": {},
     "output_type": "execute_result"
    }
   ],
   "source": [
    "fifa"
   ]
  },
  {
   "cell_type": "code",
   "execution_count": 15,
   "id": "fb61c1f0",
   "metadata": {},
   "outputs": [
    {
     "data": {
      "text/plain": [
       "Name                         0\n",
       "Age                          0\n",
       "Nationality                  0\n",
       "Overall_rating               0\n",
       "Potential                    0\n",
       "Club                        19\n",
       "Preferred Foot               0\n",
       "International Reputation     0\n",
       "Weak Foot                    0\n",
       "Skill Moves                  0\n",
       "Work Rate                    0\n",
       "Position                     0\n",
       "Jersey Number                0\n",
       "Height                       0\n",
       "Weight                       0\n",
       "dtype: int64"
      ]
     },
     "execution_count": 15,
     "metadata": {},
     "output_type": "execute_result"
    }
   ],
   "source": [
    "fifa.isnull().sum()"
   ]
  },
  {
   "cell_type": "code",
   "execution_count": 16,
   "id": "d70b7a00",
   "metadata": {},
   "outputs": [],
   "source": [
    "fifa.dropna(subset=['Club'],inplace=True)"
   ]
  },
  {
   "cell_type": "code",
   "execution_count": 17,
   "id": "0ea85285",
   "metadata": {},
   "outputs": [
    {
     "data": {
      "text/plain": [
       "Name                        0\n",
       "Age                         0\n",
       "Nationality                 0\n",
       "Overall_rating              0\n",
       "Potential                   0\n",
       "Club                        0\n",
       "Preferred Foot              0\n",
       "International Reputation    0\n",
       "Weak Foot                   0\n",
       "Skill Moves                 0\n",
       "Work Rate                   0\n",
       "Position                    0\n",
       "Jersey Number               0\n",
       "Height                      0\n",
       "Weight                      0\n",
       "dtype: int64"
      ]
     },
     "execution_count": 17,
     "metadata": {},
     "output_type": "execute_result"
    }
   ],
   "source": [
    "fifa.isnull().sum()"
   ]
  },
  {
   "cell_type": "code",
   "execution_count": 18,
   "id": "18190bcf",
   "metadata": {},
   "outputs": [
    {
     "data": {
      "text/plain": [
       "29715"
      ]
     },
     "execution_count": 18,
     "metadata": {},
     "output_type": "execute_result"
    }
   ],
   "source": [
    "fifa.size"
   ]
  },
  {
   "cell_type": "code",
   "execution_count": 19,
   "id": "2c08714e",
   "metadata": {},
   "outputs": [
    {
     "name": "stdout",
     "output_type": "stream",
     "text": [
      "<class 'pandas.core.frame.DataFrame'>\n",
      "Int64Index: 1981 entries, 0 to 1999\n",
      "Data columns (total 15 columns):\n",
      " #   Column                    Non-Null Count  Dtype  \n",
      "---  ------                    --------------  -----  \n",
      " 0   Name                      1981 non-null   object \n",
      " 1   Age                       1981 non-null   int64  \n",
      " 2   Nationality               1981 non-null   object \n",
      " 3   Overall_rating            1981 non-null   int64  \n",
      " 4   Potential                 1981 non-null   int64  \n",
      " 5   Club                      1981 non-null   object \n",
      " 6   Preferred Foot            1981 non-null   object \n",
      " 7   International Reputation  1981 non-null   int64  \n",
      " 8   Weak Foot                 1981 non-null   int64  \n",
      " 9   Skill Moves               1981 non-null   int64  \n",
      " 10  Work Rate                 1981 non-null   object \n",
      " 11  Position                  1981 non-null   object \n",
      " 12  Jersey Number             1981 non-null   int64  \n",
      " 13  Height                    1981 non-null   float64\n",
      " 14  Weight                    1981 non-null   int64  \n",
      "dtypes: float64(1), int64(8), object(6)\n",
      "memory usage: 247.6+ KB\n"
     ]
    }
   ],
   "source": [
    "fifa.info()"
   ]
  },
  {
   "cell_type": "code",
   "execution_count": 20,
   "id": "eaaa4fcc",
   "metadata": {},
   "outputs": [
    {
     "data": {
      "text/html": [
       "<div>\n",
       "<style scoped>\n",
       "    .dataframe tbody tr th:only-of-type {\n",
       "        vertical-align: middle;\n",
       "    }\n",
       "\n",
       "    .dataframe tbody tr th {\n",
       "        vertical-align: top;\n",
       "    }\n",
       "\n",
       "    .dataframe thead th {\n",
       "        text-align: right;\n",
       "    }\n",
       "</style>\n",
       "<table border=\"1\" class=\"dataframe\">\n",
       "  <thead>\n",
       "    <tr style=\"text-align: right;\">\n",
       "      <th></th>\n",
       "      <th>Age</th>\n",
       "      <th>Overall_rating</th>\n",
       "      <th>Potential</th>\n",
       "      <th>International Reputation</th>\n",
       "      <th>Weak Foot</th>\n",
       "      <th>Skill Moves</th>\n",
       "      <th>Jersey Number</th>\n",
       "      <th>Height</th>\n",
       "      <th>Weight</th>\n",
       "    </tr>\n",
       "  </thead>\n",
       "  <tbody>\n",
       "    <tr>\n",
       "      <th>0</th>\n",
       "      <td>31</td>\n",
       "      <td>94</td>\n",
       "      <td>94</td>\n",
       "      <td>5</td>\n",
       "      <td>4</td>\n",
       "      <td>4</td>\n",
       "      <td>10</td>\n",
       "      <td>5.583333</td>\n",
       "      <td>159</td>\n",
       "    </tr>\n",
       "    <tr>\n",
       "      <th>1</th>\n",
       "      <td>33</td>\n",
       "      <td>94</td>\n",
       "      <td>94</td>\n",
       "      <td>5</td>\n",
       "      <td>4</td>\n",
       "      <td>5</td>\n",
       "      <td>7</td>\n",
       "      <td>6.166667</td>\n",
       "      <td>183</td>\n",
       "    </tr>\n",
       "  </tbody>\n",
       "</table>\n",
       "</div>"
      ],
      "text/plain": [
       "   Age  Overall_rating  Potential  International Reputation  Weak Foot  \\\n",
       "0   31              94         94                         5          4   \n",
       "1   33              94         94                         5          4   \n",
       "\n",
       "   Skill Moves  Jersey Number    Height  Weight  \n",
       "0            4             10  5.583333     159  \n",
       "1            5              7  6.166667     183  "
      ]
     },
     "execution_count": 20,
     "metadata": {},
     "output_type": "execute_result"
    }
   ],
   "source": [
    "fifa_num=fifa.select_dtypes(include=np.number)\n",
    "fifa_num.head(2)"
   ]
  },
  {
   "cell_type": "code",
   "execution_count": 21,
   "id": "01639053",
   "metadata": {},
   "outputs": [
    {
     "name": "stderr",
     "output_type": "stream",
     "text": [
      "C:\\Users\\lavanya\\anaconda3\\lib\\site-packages\\seaborn\\_decorators.py:36: FutureWarning: Pass the following variable as a keyword arg: x. From version 0.12, the only valid positional argument will be `data`, and passing other arguments without an explicit keyword will result in an error or misinterpretation.\n",
      "  warnings.warn(\n"
     ]
    },
    {
     "data": {
      "image/png": "[encoded data removed]",
      "text/plain": [
       "<Figure size 432x288 with 1 Axes>"
      ]
     },
     "metadata": {
      "needs_background": "light"
     },
     "output_type": "display_data"
    },
    {
     "name": "stderr",
     "output_type": "stream",
     "text": [
      "C:\\Users\\lavanya\\anaconda3\\lib\\site-packages\\seaborn\\_decorators.py:36: FutureWarning: Pass the following variable as a keyword arg: x. From version 0.12, the only valid positional argument will be `data`, and passing other arguments without an explicit keyword will result in an error or misinterpretation.\n",
      "  warnings.warn(\n"
     ]
    },
    {
     "data": {
      "image/png": "[encoded data removed]",
      "text/plain": [
       "<Figure size 432x288 with 1 Axes>"
      ]
     },
     "metadata": {
      "needs_background": "light"
     },
     "output_type": "display_data"
    },
    {
     "name": "stderr",
     "output_type": "stream",
     "text": [
      "C:\\Users\\lavanya\\anaconda3\\lib\\site-packages\\seaborn\\_decorators.py:36: FutureWarning: Pass the following variable as a keyword arg: x. From version 0.12, the only valid positional argument will be `data`, and passing other arguments without an explicit keyword will result in an error or misinterpretation.\n",
      "  warnings.warn(\n"
     ]
    },
    {
     "data": {
      "image/png": "[encoded data removed]",
      "text/plain": [
       "<Figure size 432x288 with 1 Axes>"
      ]
     },
     "metadata": {
      "needs_background": "light"
     },
     "output_type": "display_data"
    },
    {
     "name": "stderr",
     "output_type": "stream",
     "text": [
      "C:\\Users\\lavanya\\anaconda3\\lib\\site-packages\\seaborn\\_decorators.py:36: FutureWarning: Pass the following variable as a keyword arg: x. From version 0.12, the only valid positional argument will be `data`, and passing other arguments without an explicit keyword will result in an error or misinterpretation.\n",
      "  warnings.warn(\n"
     ]
    },
    {
     "data": {
      "image/png": "[encoded data removed]",
      "text/plain": [
       "<Figure size 432x288 with 1 Axes>"
      ]
     },
     "metadata": {
      "needs_background": "light"
     },
     "output_type": "display_data"
    },
    {
     "name": "stderr",
     "output_type": "stream",
     "text": [
      "C:\\Users\\lavanya\\anaconda3\\lib\\site-packages\\seaborn\\_decorators.py:36: FutureWarning: Pass the following variable as a keyword arg: x. From version 0.12, the only valid positional argument will be `data`, and passing other arguments without an explicit keyword will result in an error or misinterpretation.\n",
      "  warnings.warn(\n"
     ]
    },
    {
     "data": {
      "image/png": "[encoded data removed]",
      "text/plain": [
       "<Figure size 432x288 with 1 Axes>"
      ]
     },
     "metadata": {
      "needs_background": "light"
     },
     "output_type": "display_data"
    },
    {
     "name": "stderr",
     "output_type": "stream",
     "text": [
      "C:\\Users\\lavanya\\anaconda3\\lib\\site-packages\\seaborn\\_decorators.py:36: FutureWarning: Pass the following variable as a keyword arg: x. From version 0.12, the only valid positional argument will be `data`, and passing other arguments without an explicit keyword will result in an error or misinterpretation.\n",
      "  warnings.warn(\n"
     ]
    },
    {
     "data": {
      "image/png": "[encoded data removed]",
      "text/plain": [
       "<Figure size 432x288 with 1 Axes>"
      ]
     },
     "metadata": {
      "needs_background": "light"
     },
     "output_type": "display_data"
    },
    {
     "name": "stderr",
     "output_type": "stream",
     "text": [
      "C:\\Users\\lavanya\\anaconda3\\lib\\site-packages\\seaborn\\_decorators.py:36: FutureWarning: Pass the following variable as a keyword arg: x. From version 0.12, the only valid positional argument will be `data`, and passing other arguments without an explicit keyword will result in an error or misinterpretation.\n",
      "  warnings.warn(\n"
     ]
    },
    {
     "data": {
      "image/png": "[encoded data removed]",
      "text/plain": [
       "<Figure size 432x288 with 1 Axes>"
      ]
     },
     "metadata": {
      "needs_background": "light"
     },
     "output_type": "display_data"
    },
    {
     "name": "stderr",
     "output_type": "stream",
     "text": [
      "C:\\Users\\lavanya\\anaconda3\\lib\\site-packages\\seaborn\\_decorators.py:36: FutureWarning: Pass the following variable as a keyword arg: x. From version 0.12, the only valid positional argument will be `data`, and passing other arguments without an explicit keyword will result in an error or misinterpretation.\n",
      "  warnings.warn(\n"
     ]
    },
    {
     "data": {
      "image/png": "[encoded data removed]",
      "text/plain": [
       "<Figure size 432x288 with 1 Axes>"
      ]
     },
     "metadata": {
      "needs_background": "light"
     },
     "output_type": "display_data"
    },
    {
     "name": "stderr",
     "output_type": "stream",
     "text": [
      "C:\\Users\\lavanya\\anaconda3\\lib\\site-packages\\seaborn\\_decorators.py:36: FutureWarning: Pass the following variable as a keyword arg: x. From version 0.12, the only valid positional argument will be `data`, and passing other arguments without an explicit keyword will result in an error or misinterpretation.\n",
      "  warnings.warn(\n"
     ]
    },
    {
     "data": {
      "image/png": "[encoded data removed]",
      "text/plain": [
       "<Figure size 432x288 with 1 Axes>"
      ]
     },
     "metadata": {
      "needs_background": "light"
     },
     "output_type": "display_data"
    }
   ],
   "source": [
    "for i in fifa_num.columns:\n",
    "    sns.boxplot(fifa[i])\n",
    "    plt.show()"
   ]
  },
  {
   "cell_type": "markdown",
   "id": "2242e9c4",
   "metadata": {},
   "source": [
    "1.a)\tAssuming age as population, perform the central limit theorem with sample size of 200. Find the standard error and the mean of sampling distribution. Compare the results with population mean and standard deviation. Explain in non-technical terms why the estimated standard error of a sample mean tends to decrease with an increase in sample size"
   ]
  },
  {
   "cell_type": "code",
   "execution_count": 22,
   "id": "b1968c55",
   "metadata": {},
   "outputs": [],
   "source": [
    "# 100 NUMBER OF SAMPLE WITH SAMPLE SIZE OF 200:\n",
    "sample_size = 200\n",
    "no_of_sample = 100\n",
    "sample_mean_list=[]\n",
    "for i in range(no_of_sample):\n",
    "    sample_age = np.random.choice(fifa[\"Age\"],size=sample_size,replace=True)\n",
    "    sample_age_mean=np.mean(sample_age)\n",
    "    sample_mean_list.append(sample_age_mean)"
   ]
  },
  {
   "cell_type": "code",
   "execution_count": 23,
   "id": "2146b17d",
   "metadata": {},
   "outputs": [
    {
     "data": {
      "image/png": "[encoded data removed]",
      "text/plain": [
       "<Figure size 432x288 with 1 Axes>"
      ]
     },
     "metadata": {
      "needs_background": "light"
     },
     "output_type": "display_data"
    }
   ],
   "source": [
    "sns.histplot(sample_mean_list,kde=True, bins=25)\n",
    "plt.axvline(np.mean(sample_mean_list),c=\"red\")\n",
    "plt.show()"
   ]
  },
  {
   "cell_type": "code",
   "execution_count": 24,
   "id": "8e9438a4",
   "metadata": {},
   "outputs": [],
   "source": [
    "# 1000 NUMBER OF SAMPLE WITH SAMPLE SIZE OF 200:\n",
    "sample_size_2 = 200\n",
    "no_of_sample_2 = 1000\n",
    "sample_mean_list_2=[]\n",
    "for i in range(no_of_sample_2):\n",
    "    sample_age_2 = np.random.choice(fifa[\"Age\"],size=sample_size_2,replace=True)\n",
    "    sample_age_mean_2=np.mean(sample_age_2)\n",
    "    sample_mean_list_2.append(sample_age_mean_2)"
   ]
  },
  {
   "cell_type": "code",
   "execution_count": 25,
   "id": "4da66990",
   "metadata": {},
   "outputs": [
    {
     "data": {
      "image/png": "[encoded data removed]",
      "text/plain": [
       "<Figure size 432x288 with 1 Axes>"
      ]
     },
     "metadata": {
      "needs_background": "light"
     },
     "output_type": "display_data"
    }
   ],
   "source": [
    "sns.histplot(sample_mean_list_2,kde=True, bins=25)\n",
    "plt.axvline(np.mean(sample_mean_list_2),c=\"red\")\n",
    "plt.show()"
   ]
  },
  {
   "cell_type": "code",
   "execution_count": 27,
   "id": "68e43b50",
   "metadata": {},
   "outputs": [
    {
     "name": "stdout",
     "output_type": "stream",
     "text": [
      "Standard Error: 0.2723454372301208\n",
      "Standard Error with approximation for 100 samples of 200 sample size each is: 0.020367709081590968\n",
      "Standard Error with approximation for 1000 samples of 200 sample size each is: 0.020139809331766772\n"
     ]
    }
   ],
   "source": [
    "\n",
    "mu = np.mean(fifa[\"Age\"]) # Population Mean (μ)\n",
    "sigma = np.std(fifa[\"Age\"]) # Population Standard deviation (σ)\n",
    "x_bar_100_samples = np.mean(sample_mean_list) # Sample Mean (x̄)\n",
    "s_100_samples = np.std(sample_mean_list,ddof=1) # Sample Standard Deviation (s)\n",
    "x_bar_1000_samples = np.mean(sample_mean_list_2) # Sample Mean (x̄)\n",
    "s_1000_samples = np.std(sample_mean_list_2,ddof=1) # Sample Standard Deviation (s)\n",
    "n = len(sample_age)\n",
    "print(\"Standard Error:\", sigma/(n**0.5))\n",
    "print(\"Standard Error with approximation for 100 samples of 200 sample size each is:\", s_100_samples/(n**0.5))\n",
    "print(\"Standard Error with approximation for 1000 samples of 200 sample size each is:\", s_1000_samples/(n**0.5))"
   ]
  },
  {
   "cell_type": "code",
   "execution_count": 28,
   "id": "6f7f64fd",
   "metadata": {},
   "outputs": [
    {
     "name": "stdout",
     "output_type": "stream",
     "text": [
      "Mean of population distribution: 27.215547703180214\n",
      "Population Standard Deviation: 3.8515461098126726\n",
      "Mean of sampling Distribution with 100 samples of 200 sample size each is: 27.22085\n",
      "Sampling Standard Deviation with 100 samples of 200 sample size each is: 0.2865990710033792\n",
      "Mean of sampling Distribution with 1000 samples of 200 sample size each is: 27.216279999999998\n",
      "Sampling Standard Deviation with 1000 samples of 200 sample size each is: 0.28467746942812316\n"
     ]
    }
   ],
   "source": [
    "print(\"Mean of population distribution:\", mu)\n",
    "print(\"Population Standard Deviation:\", sigma )\n",
    "print(\"Mean of sampling Distribution with 100 samples of 200 sample size each is:\", np.mean(sample_mean_list) )\n",
    "print(\"Sampling Standard Deviation with 100 samples of 200 sample size each is:\", np.std(sample_mean_list) )\n",
    "print(\"Mean of sampling Distribution with 1000 samples of 200 sample size each is:\", np.mean(sample_mean_list_2) )\n",
    "print(\"Sampling Standard Deviation with 1000 samples of 200 sample size each is:\", np.std(sample_mean_list_2) )"
   ]
  },
  {
   "cell_type": "markdown",
   "id": "594aa689",
   "metadata": {},
   "source": [
    "Here our above analysis says that there is no much devaition in standard error so the means are not spread out.\n",
    "\n",
    "There is no much difference with population mean and sampling mean."
   ]
  },
  {
   "cell_type": "markdown",
   "id": "7288275f",
   "metadata": {},
   "source": [
    "b) Is there any evidence that the players overall rating is greater than 80?"
   ]
  },
  {
   "cell_type": "code",
   "execution_count": null,
   "id": "14a341d0",
   "metadata": {},
   "outputs": [],
   "source": [
    "#1.HYPOTHESIS FORMATION:\n",
    "#ho: mu=80 \n",
    "#ha: mu!=80\n",
    "#2.CHOICE OF TEST: one sample t test\n"
   ]
  },
  {
   "cell_type": "code",
   "execution_count": 30,
   "id": "751e69c3",
   "metadata": {},
   "outputs": [
    {
     "data": {
      "text/plain": [
       "ShapiroResult(statistic=0.8532959818840027, pvalue=1.721150444000814e-39)"
      ]
     },
     "execution_count": 30,
     "metadata": {},
     "output_type": "execute_result"
    }
   ],
   "source": [
    "stats.shapiro(fifa[\"Overall_rating\"])\n",
    "# P_Val is lesser than sig_level in the shapiro test, Hence the data is not normal, \n"
   ]
  },
  {
   "cell_type": "code",
   "execution_count": 31,
   "id": "4b5a40d3",
   "metadata": {},
   "outputs": [
    {
     "name": "stdout",
     "output_type": "stream",
     "text": [
      "78.06697679542349 78.35705147312775\n"
     ]
    }
   ],
   "source": [
    "n=len(fifa[\"Overall_rating\"])\n",
    "sigma = np.std(fifa[\"Overall_rating\"],ddof=1)\n",
    "x_bar = np.mean(fifa[\"Overall_rating\"])\n",
    "conf_lvl=0.95\n",
    "z = stats.norm.isf(0.025) \n",
    "ll = x_bar - (z*(sigma/n**0.5))\n",
    "ul = x_bar + (z*(sigma/n**0.5))\n",
    "print(ll,ul)"
   ]
  },
  {
   "cell_type": "code",
   "execution_count": 32,
   "id": "4e36c180",
   "metadata": {},
   "outputs": [
    {
     "data": {
      "text/plain": [
       "Ttest_1sampResult(statistic=-24.161970492711205, pvalue=3.0006946846662113e-113)"
      ]
     },
     "execution_count": 32,
     "metadata": {},
     "output_type": "execute_result"
    }
   ],
   "source": [
    "stats.ttest_1samp(fifa['Overall_rating'],popmean=80)"
   ]
  },
  {
   "cell_type": "markdown",
   "id": "16eb197e",
   "metadata": {},
   "source": [
    "INFERENCE:\n",
    "P_VAL=0\n",
    "sig_lvl=0.05\n",
    "pval < sig_lvl\n",
    "Ho is rejected,Ha is selected\n",
    "mu!=80\n",
    "Since the tstat value is -ve, we can conclude that over all rating is lesser than 80"
   ]
  },
  {
   "cell_type": "markdown",
   "id": "8e6b97ff",
   "metadata": {},
   "source": [
    "c) Perform the statistical test to identify whether preferred foot has any impact on potential. Also, perform the graphical analysis."
   ]
  },
  {
   "cell_type": "code",
   "execution_count": null,
   "id": "d2518f07",
   "metadata": {},
   "outputs": [],
   "source": [
    "# Hypothesis Formation:\n",
    "\n",
    "# Ho : Preferred foot and Potential are independed\n",
    "# Ha : Preferred foot and Potential are depended\n"
   ]
  },
  {
   "cell_type": "code",
   "execution_count": 33,
   "id": "dbea6b47",
   "metadata": {},
   "outputs": [
    {
     "data": {
      "text/html": [
       "<div>\n",
       "<style scoped>\n",
       "    .dataframe tbody tr th:only-of-type {\n",
       "        vertical-align: middle;\n",
       "    }\n",
       "\n",
       "    .dataframe tbody tr th {\n",
       "        vertical-align: top;\n",
       "    }\n",
       "\n",
       "    .dataframe thead th {\n",
       "        text-align: right;\n",
       "    }\n",
       "</style>\n",
       "<table border=\"1\" class=\"dataframe\">\n",
       "  <thead>\n",
       "    <tr style=\"text-align: right;\">\n",
       "      <th>Potential</th>\n",
       "      <th>75</th>\n",
       "      <th>76</th>\n",
       "      <th>77</th>\n",
       "      <th>78</th>\n",
       "      <th>79</th>\n",
       "      <th>80</th>\n",
       "      <th>81</th>\n",
       "      <th>82</th>\n",
       "      <th>83</th>\n",
       "      <th>84</th>\n",
       "      <th>...</th>\n",
       "      <th>86</th>\n",
       "      <th>87</th>\n",
       "      <th>88</th>\n",
       "      <th>89</th>\n",
       "      <th>90</th>\n",
       "      <th>91</th>\n",
       "      <th>92</th>\n",
       "      <th>93</th>\n",
       "      <th>94</th>\n",
       "      <th>95</th>\n",
       "    </tr>\n",
       "    <tr>\n",
       "      <th>Preferred Foot</th>\n",
       "      <th></th>\n",
       "      <th></th>\n",
       "      <th></th>\n",
       "      <th></th>\n",
       "      <th></th>\n",
       "      <th></th>\n",
       "      <th></th>\n",
       "      <th></th>\n",
       "      <th></th>\n",
       "      <th></th>\n",
       "      <th></th>\n",
       "      <th></th>\n",
       "      <th></th>\n",
       "      <th></th>\n",
       "      <th></th>\n",
       "      <th></th>\n",
       "      <th></th>\n",
       "      <th></th>\n",
       "      <th></th>\n",
       "      <th></th>\n",
       "      <th></th>\n",
       "    </tr>\n",
       "  </thead>\n",
       "  <tbody>\n",
       "    <tr>\n",
       "      <th>Left</th>\n",
       "      <td>57</td>\n",
       "      <td>41</td>\n",
       "      <td>40</td>\n",
       "      <td>31</td>\n",
       "      <td>34</td>\n",
       "      <td>51</td>\n",
       "      <td>32</td>\n",
       "      <td>29</td>\n",
       "      <td>30</td>\n",
       "      <td>32</td>\n",
       "      <td>...</td>\n",
       "      <td>17</td>\n",
       "      <td>16</td>\n",
       "      <td>9</td>\n",
       "      <td>13</td>\n",
       "      <td>6</td>\n",
       "      <td>1</td>\n",
       "      <td>4</td>\n",
       "      <td>0</td>\n",
       "      <td>2</td>\n",
       "      <td>0</td>\n",
       "    </tr>\n",
       "    <tr>\n",
       "      <th>Right</th>\n",
       "      <td>150</td>\n",
       "      <td>181</td>\n",
       "      <td>173</td>\n",
       "      <td>112</td>\n",
       "      <td>119</td>\n",
       "      <td>140</td>\n",
       "      <td>109</td>\n",
       "      <td>100</td>\n",
       "      <td>107</td>\n",
       "      <td>78</td>\n",
       "      <td>...</td>\n",
       "      <td>49</td>\n",
       "      <td>36</td>\n",
       "      <td>32</td>\n",
       "      <td>18</td>\n",
       "      <td>15</td>\n",
       "      <td>11</td>\n",
       "      <td>5</td>\n",
       "      <td>4</td>\n",
       "      <td>1</td>\n",
       "      <td>1</td>\n",
       "    </tr>\n",
       "  </tbody>\n",
       "</table>\n",
       "<p>2 rows × 21 columns</p>\n",
       "</div>"
      ],
      "text/plain": [
       "Potential        75   76   77   78   79   80   81   82   83  84  ...  86  87  \\\n",
       "Preferred Foot                                                   ...           \n",
       "Left             57   41   40   31   34   51   32   29   30  32  ...  17  16   \n",
       "Right           150  181  173  112  119  140  109  100  107  78  ...  49  36   \n",
       "\n",
       "Potential       88  89  90  91  92  93  94  95  \n",
       "Preferred Foot                                  \n",
       "Left             9  13   6   1   4   0   2   0  \n",
       "Right           32  18  15  11   5   4   1   1  \n",
       "\n",
       "[2 rows x 21 columns]"
      ]
     },
     "execution_count": 33,
     "metadata": {},
     "output_type": "execute_result"
    }
   ],
   "source": [
    "obs = pd.crosstab(fifa[\"Preferred Foot\"],fifa[\"Potential\"])\n",
    "obs"
   ]
  },
  {
   "cell_type": "code",
   "execution_count": 34,
   "id": "e6ef0ebb",
   "metadata": {},
   "outputs": [
    {
     "name": "stdout",
     "output_type": "stream",
     "text": [
      "test_stat: 29.456907942091373\n",
      "pval: 0.07914467015823963\n",
      "dof: 20\n",
      "exp: [[ 48.27561837  51.77385159  49.67491166  33.34982332  35.6819788\n",
      "   44.54416961  32.88339223  30.08480565  31.95053004  25.65371025\n",
      "   22.15547703  15.39222615  12.12720848   9.56183746   7.22968198\n",
      "    4.8975265    2.79858657   2.09893993   0.93286219   0.69964664\n",
      "    0.23321555]\n",
      " [158.72438163 170.22614841 163.32508834 109.65017668 117.3180212\n",
      "  146.45583039 108.11660777  98.91519435 105.04946996  84.34628975\n",
      "   72.84452297  50.60777385  39.87279152  31.43816254  23.77031802\n",
      "   16.1024735    9.20141343   6.90106007   3.06713781   2.30035336\n",
      "    0.76678445]]\n"
     ]
    }
   ],
   "source": [
    "test_stat,pval,dof,exp = stats.chi2_contingency(obs)\n",
    "print(\"test_stat:\" ,test_stat)\n",
    "print(\"pval:\", pval)\n",
    "print(\"dof:\", dof)\n",
    "print(\"exp:\", exp)"
   ]
  },
  {
   "cell_type": "code",
   "execution_count": null,
   "id": "b0d8e290",
   "metadata": {},
   "outputs": [],
   "source": [
    "# Pval is greater than sig_level \n",
    "# Ho is selected \n",
    "# Since null hypothesis is selected, they are independent and no relation"
   ]
  },
  {
   "cell_type": "markdown",
   "id": "cd8152ee",
   "metadata": {},
   "source": [
    "d) Perform the statistical test to identify the relation between the overall rating and potential. [Assume both are continuous data points]."
   ]
  },
  {
   "cell_type": "code",
   "execution_count": 37,
   "id": "c2c3b589",
   "metadata": {},
   "outputs": [],
   "source": [
    "#1.HYpothesis Formation:\n",
    "# ho:correlation=0 (No relation between overall rating and potential)\n",
    "# h1: correlation!=0 (Relation between overall rating and potential)\n",
    "#2.CHOICE OF TEST: Pearson\n",
    "#3. cal ttest stat\n",
    "#4. pval\n",
    "#5. Interpretation"
   ]
  },
  {
   "cell_type": "code",
   "execution_count": 38,
   "id": "0c17e1a9",
   "metadata": {},
   "outputs": [
    {
     "data": {
      "text/plain": [
       "(0.732085835890994, 0.0)"
      ]
     },
     "execution_count": 38,
     "metadata": {},
     "output_type": "execute_result"
    }
   ],
   "source": [
    "stats.pearsonr(fifa[\"Overall_rating\"],fifa[\"Potential\"])"
   ]
  },
  {
   "cell_type": "markdown",
   "id": "f3b84a31",
   "metadata": {},
   "source": [
    "p-val=0\n",
    "\n",
    "sig_lvl=0.05\n",
    "\n",
    "pval < siglvl\n",
    "\n",
    "Ho is rejected and Ha is selected\n",
    "\n",
    "There is Positive Linear Relation between overall rating and potential"
   ]
  },
  {
   "cell_type": "markdown",
   "id": "c21dd026",
   "metadata": {},
   "source": [
    "e)Does skill move have any effect in overall rating. Perform the graphical analysis and the statistical analysis."
   ]
  },
  {
   "cell_type": "code",
   "execution_count": null,
   "id": "a93c8173",
   "metadata": {},
   "outputs": [],
   "source": [
    "# Hypothesis Formation:\n",
    "\n",
    "# Ho : Overall_rating and Skill Moves are independed\n",
    "# Ha : Overall_rating and Skill Moves are depended\n"
   ]
  },
  {
   "cell_type": "code",
   "execution_count": 40,
   "id": "3b118f52",
   "metadata": {},
   "outputs": [
    {
     "data": {
      "text/html": [
       "<div>\n",
       "<style scoped>\n",
       "    .dataframe tbody tr th:only-of-type {\n",
       "        vertical-align: middle;\n",
       "    }\n",
       "\n",
       "    .dataframe tbody tr th {\n",
       "        vertical-align: top;\n",
       "    }\n",
       "\n",
       "    .dataframe thead th {\n",
       "        text-align: right;\n",
       "    }\n",
       "</style>\n",
       "<table border=\"1\" class=\"dataframe\">\n",
       "  <thead>\n",
       "    <tr style=\"text-align: right;\">\n",
       "      <th>Overall_rating</th>\n",
       "      <th>75</th>\n",
       "      <th>76</th>\n",
       "      <th>77</th>\n",
       "      <th>78</th>\n",
       "      <th>79</th>\n",
       "      <th>80</th>\n",
       "      <th>81</th>\n",
       "      <th>82</th>\n",
       "      <th>83</th>\n",
       "      <th>84</th>\n",
       "      <th>85</th>\n",
       "      <th>86</th>\n",
       "      <th>87</th>\n",
       "      <th>88</th>\n",
       "      <th>89</th>\n",
       "      <th>90</th>\n",
       "      <th>91</th>\n",
       "      <th>92</th>\n",
       "      <th>94</th>\n",
       "    </tr>\n",
       "    <tr>\n",
       "      <th>Skill Moves</th>\n",
       "      <th></th>\n",
       "      <th></th>\n",
       "      <th></th>\n",
       "      <th></th>\n",
       "      <th></th>\n",
       "      <th></th>\n",
       "      <th></th>\n",
       "      <th></th>\n",
       "      <th></th>\n",
       "      <th></th>\n",
       "      <th></th>\n",
       "      <th></th>\n",
       "      <th></th>\n",
       "      <th></th>\n",
       "      <th></th>\n",
       "      <th></th>\n",
       "      <th></th>\n",
       "      <th></th>\n",
       "      <th></th>\n",
       "    </tr>\n",
       "  </thead>\n",
       "  <tbody>\n",
       "    <tr>\n",
       "      <th>1</th>\n",
       "      <td>38</td>\n",
       "      <td>32</td>\n",
       "      <td>22</td>\n",
       "      <td>15</td>\n",
       "      <td>18</td>\n",
       "      <td>18</td>\n",
       "      <td>5</td>\n",
       "      <td>12</td>\n",
       "      <td>13</td>\n",
       "      <td>7</td>\n",
       "      <td>2</td>\n",
       "      <td>1</td>\n",
       "      <td>1</td>\n",
       "      <td>3</td>\n",
       "      <td>3</td>\n",
       "      <td>1</td>\n",
       "      <td>1</td>\n",
       "      <td>0</td>\n",
       "      <td>0</td>\n",
       "    </tr>\n",
       "    <tr>\n",
       "      <th>2</th>\n",
       "      <td>95</td>\n",
       "      <td>78</td>\n",
       "      <td>62</td>\n",
       "      <td>30</td>\n",
       "      <td>24</td>\n",
       "      <td>24</td>\n",
       "      <td>13</td>\n",
       "      <td>20</td>\n",
       "      <td>10</td>\n",
       "      <td>10</td>\n",
       "      <td>12</td>\n",
       "      <td>6</td>\n",
       "      <td>3</td>\n",
       "      <td>2</td>\n",
       "      <td>2</td>\n",
       "      <td>1</td>\n",
       "      <td>0</td>\n",
       "      <td>0</td>\n",
       "      <td>0</td>\n",
       "    </tr>\n",
       "    <tr>\n",
       "      <th>3</th>\n",
       "      <td>214</td>\n",
       "      <td>170</td>\n",
       "      <td>136</td>\n",
       "      <td>63</td>\n",
       "      <td>71</td>\n",
       "      <td>56</td>\n",
       "      <td>28</td>\n",
       "      <td>24</td>\n",
       "      <td>17</td>\n",
       "      <td>11</td>\n",
       "      <td>9</td>\n",
       "      <td>4</td>\n",
       "      <td>7</td>\n",
       "      <td>2</td>\n",
       "      <td>3</td>\n",
       "      <td>1</td>\n",
       "      <td>2</td>\n",
       "      <td>0</td>\n",
       "      <td>0</td>\n",
       "    </tr>\n",
       "    <tr>\n",
       "      <th>4</th>\n",
       "      <td>72</td>\n",
       "      <td>91</td>\n",
       "      <td>75</td>\n",
       "      <td>59</td>\n",
       "      <td>52</td>\n",
       "      <td>40</td>\n",
       "      <td>43</td>\n",
       "      <td>34</td>\n",
       "      <td>27</td>\n",
       "      <td>13</td>\n",
       "      <td>8</td>\n",
       "      <td>9</td>\n",
       "      <td>1</td>\n",
       "      <td>7</td>\n",
       "      <td>3</td>\n",
       "      <td>2</td>\n",
       "      <td>3</td>\n",
       "      <td>0</td>\n",
       "      <td>1</td>\n",
       "    </tr>\n",
       "    <tr>\n",
       "      <th>5</th>\n",
       "      <td>2</td>\n",
       "      <td>0</td>\n",
       "      <td>5</td>\n",
       "      <td>0</td>\n",
       "      <td>4</td>\n",
       "      <td>3</td>\n",
       "      <td>4</td>\n",
       "      <td>4</td>\n",
       "      <td>3</td>\n",
       "      <td>4</td>\n",
       "      <td>2</td>\n",
       "      <td>2</td>\n",
       "      <td>1</td>\n",
       "      <td>3</td>\n",
       "      <td>0</td>\n",
       "      <td>0</td>\n",
       "      <td>0</td>\n",
       "      <td>1</td>\n",
       "      <td>1</td>\n",
       "    </tr>\n",
       "  </tbody>\n",
       "</table>\n",
       "</div>"
      ],
      "text/plain": [
       "Overall_rating   75   76   77  78  79  80  81  82  83  84  85  86  87  88  89  \\\n",
       "Skill Moves                                                                     \n",
       "1                38   32   22  15  18  18   5  12  13   7   2   1   1   3   3   \n",
       "2                95   78   62  30  24  24  13  20  10  10  12   6   3   2   2   \n",
       "3               214  170  136  63  71  56  28  24  17  11   9   4   7   2   3   \n",
       "4                72   91   75  59  52  40  43  34  27  13   8   9   1   7   3   \n",
       "5                 2    0    5   0   4   3   4   4   3   4   2   2   1   3   0   \n",
       "\n",
       "Overall_rating  90  91  92  94  \n",
       "Skill Moves                     \n",
       "1                1   1   0   0  \n",
       "2                1   0   0   0  \n",
       "3                1   2   0   0  \n",
       "4                2   3   0   1  \n",
       "5                0   0   1   1  "
      ]
     },
     "execution_count": 40,
     "metadata": {},
     "output_type": "execute_result"
    }
   ],
   "source": [
    "ocs = pd.crosstab(fifa[\"Skill Moves\"],fifa[\"Overall_rating\"])\n",
    "ocs"
   ]
  },
  {
   "cell_type": "code",
   "execution_count": 41,
   "id": "3ce4dc0e",
   "metadata": {},
   "outputs": [
    {
     "name": "stdout",
     "output_type": "stream",
     "text": [
      "test_stat: 262.7330450892917\n",
      "pval: 1.6366088370930575e-23\n",
      "dof: 72\n",
      "exp: [[4.08036345e+01 3.59575972e+01 2.90762241e+01 1.61857648e+01\n",
      "  1.63796063e+01 1.36658253e+01 9.01362948e+00 9.11055023e+00\n",
      "  6.78445230e+00 4.36143362e+00 3.19838465e+00 2.13225644e+00\n",
      "  1.25996971e+00 1.64765270e+00 1.06612822e+00 4.84603735e-01\n",
      "  5.81524483e-01 9.69207471e-02 1.93841494e-01]\n",
      " [8.33074205e+01 7.34134276e+01 5.93639576e+01 3.30459364e+01\n",
      "  3.34416961e+01 2.79010601e+01 1.84028269e+01 1.86007067e+01\n",
      "  1.38515901e+01 8.90459364e+00 6.53003534e+00 4.35335689e+00\n",
      "  2.57243816e+00 3.36395760e+00 2.17667845e+00 9.89399293e-01\n",
      "  1.18727915e+00 1.97879859e-01 3.95759717e-01]\n",
      " [1.73840485e+02 1.53194346e+02 1.23876830e+02 6.89581020e+01\n",
      "  6.97839475e+01 5.82221100e+01 3.84018173e+01 3.88147400e+01\n",
      "  2.89045936e+01 1.85815245e+01 1.36264513e+01 9.08430086e+00\n",
      "  5.36799596e+00 7.01968703e+00 4.54215043e+00 2.06461383e+00\n",
      "  2.47753660e+00 4.12922766e-01 8.25845533e-01]\n",
      " [1.14760222e+02 1.01130742e+02 8.17768804e+01 4.55224634e+01\n",
      "  4.60676426e+01 3.84351338e+01 2.53508329e+01 2.56234225e+01\n",
      "  1.90812721e+01 1.22665321e+01 8.99545684e+00 5.99697123e+00\n",
      "  3.54366482e+00 4.63402322e+00 2.99848561e+00 1.36294801e+00\n",
      "  1.63553761e+00 2.72589601e-01 5.45179202e-01]\n",
      " [8.28823826e+00 7.30388693e+00 5.90610803e+00 3.28773347e+00\n",
      "  3.32710752e+00 2.77587077e+00 1.83089349e+00 1.85058051e+00\n",
      "  1.37809187e+00 8.85916204e-01 6.49671883e-01 4.33114589e-01\n",
      "  2.55931348e-01 3.34679455e-01 2.16557294e-01 9.84351338e-02\n",
      "  1.18122161e-01 1.96870268e-02 3.93740535e-02]]\n"
     ]
    }
   ],
   "source": [
    "test_stat,pval,dof,exp = stats.chi2_contingency(ocs)\n",
    "print(\"test_stat:\" ,test_stat)\n",
    "print(\"pval:\", pval)\n",
    "print(\"dof:\", dof)\n",
    "print(\"exp:\", exp)"
   ]
  },
  {
   "cell_type": "code",
   "execution_count": 42,
   "id": "be7a24f6",
   "metadata": {},
   "outputs": [],
   "source": [
    "# Pval=0 is lesser than sig_level (0.5)\n",
    "# Ha is selected \n",
    "# Since alternate hypothesis is selected, the skill move and overall rating is dependend"
   ]
  },
  {
   "cell_type": "code",
   "execution_count": 44,
   "id": "f82acf83",
   "metadata": {},
   "outputs": [
    {
     "data": {
      "text/plain": [
       "<AxesSubplot:xlabel='Skill Moves', ylabel='Overall_rating'>"
      ]
     },
     "execution_count": 44,
     "metadata": {},
     "output_type": "execute_result"
    },
    {
     "data": {
      "image/png": "[encoded data removed]",
      "text/plain": [
       "<Figure size 432x288 with 1 Axes>"
      ]
     },
     "metadata": {
      "needs_background": "light"
     },
     "output_type": "display_data"
    }
   ],
   "source": [
    "\n",
    "sns.boxplot(x=fifa[\"Skill Moves\"],y=fifa[\"Overall_rating\"])"
   ]
  },
  {
   "cell_type": "markdown",
   "id": "f100f109",
   "metadata": {},
   "source": [
    "# 2. Perform the following statistical analysis on the mobile network dataset given. The given data set contains information about the internet, calls, messages of various network. Data Cleaning and basic EDA process needs to be performed"
   ]
  },
  {
   "cell_type": "code",
   "execution_count": 45,
   "id": "3ae026e0",
   "metadata": {},
   "outputs": [
    {
     "data": {
      "text/html": [
       "<div>\n",
       "<style scoped>\n",
       "    .dataframe tbody tr th:only-of-type {\n",
       "        vertical-align: middle;\n",
       "    }\n",
       "\n",
       "    .dataframe tbody tr th {\n",
       "        vertical-align: top;\n",
       "    }\n",
       "\n",
       "    .dataframe thead th {\n",
       "        text-align: right;\n",
       "    }\n",
       "</style>\n",
       "<table border=\"1\" class=\"dataframe\">\n",
       "  <thead>\n",
       "    <tr style=\"text-align: right;\">\n",
       "      <th></th>\n",
       "      <th>date</th>\n",
       "      <th>duration</th>\n",
       "      <th>item</th>\n",
       "      <th>month</th>\n",
       "      <th>network</th>\n",
       "      <th>network_type</th>\n",
       "    </tr>\n",
       "  </thead>\n",
       "  <tbody>\n",
       "    <tr>\n",
       "      <th>0</th>\n",
       "      <td>15-10-14 6:58</td>\n",
       "      <td>221.321120</td>\n",
       "      <td>data</td>\n",
       "      <td>2014-11</td>\n",
       "      <td>data</td>\n",
       "      <td>data</td>\n",
       "    </tr>\n",
       "    <tr>\n",
       "      <th>1</th>\n",
       "      <td>15-10-14 6:58</td>\n",
       "      <td>81.610599</td>\n",
       "      <td>call</td>\n",
       "      <td>2014-11</td>\n",
       "      <td>Vodafone</td>\n",
       "      <td>mobile</td>\n",
       "    </tr>\n",
       "    <tr>\n",
       "      <th>2</th>\n",
       "      <td>15-10-14 14:46</td>\n",
       "      <td>143.109111</td>\n",
       "      <td>call</td>\n",
       "      <td>2014-11</td>\n",
       "      <td>Meteor</td>\n",
       "      <td>mobile</td>\n",
       "    </tr>\n",
       "    <tr>\n",
       "      <th>3</th>\n",
       "      <td>15-10-14 14:48</td>\n",
       "      <td>111.888670</td>\n",
       "      <td>call</td>\n",
       "      <td>2014-11</td>\n",
       "      <td>Tesco</td>\n",
       "      <td>mobile</td>\n",
       "    </tr>\n",
       "    <tr>\n",
       "      <th>4</th>\n",
       "      <td>15-10-14 17:27</td>\n",
       "      <td>246.695171</td>\n",
       "      <td>call</td>\n",
       "      <td>2014-11</td>\n",
       "      <td>Tesco</td>\n",
       "      <td>mobile</td>\n",
       "    </tr>\n",
       "  </tbody>\n",
       "</table>\n",
       "</div>"
      ],
      "text/plain": [
       "             date    duration  item    month   network network_type\n",
       "0   15-10-14 6:58  221.321120  data  2014-11      data         data\n",
       "1   15-10-14 6:58   81.610599  call  2014-11  Vodafone       mobile\n",
       "2  15-10-14 14:46  143.109111  call  2014-11    Meteor       mobile\n",
       "3  15-10-14 14:48  111.888670  call  2014-11     Tesco       mobile\n",
       "4  15-10-14 17:27  246.695171  call  2014-11     Tesco       mobile"
      ]
     },
     "execution_count": 45,
     "metadata": {},
     "output_type": "execute_result"
    }
   ],
   "source": [
    "phone  = pd.read_csv('phone.csv')\n",
    "phone.head()"
   ]
  },
  {
   "cell_type": "code",
   "execution_count": 47,
   "id": "6a8fc3bb",
   "metadata": {},
   "outputs": [
    {
     "data": {
      "text/html": [
       "<div>\n",
       "<style scoped>\n",
       "    .dataframe tbody tr th:only-of-type {\n",
       "        vertical-align: middle;\n",
       "    }\n",
       "\n",
       "    .dataframe tbody tr th {\n",
       "        vertical-align: top;\n",
       "    }\n",
       "\n",
       "    .dataframe thead th {\n",
       "        text-align: right;\n",
       "    }\n",
       "</style>\n",
       "<table border=\"1\" class=\"dataframe\">\n",
       "  <thead>\n",
       "    <tr style=\"text-align: right;\">\n",
       "      <th></th>\n",
       "      <th>date</th>\n",
       "      <th>duration</th>\n",
       "      <th>item</th>\n",
       "      <th>month</th>\n",
       "      <th>network</th>\n",
       "      <th>network_type</th>\n",
       "    </tr>\n",
       "  </thead>\n",
       "  <tbody>\n",
       "    <tr>\n",
       "      <th>0</th>\n",
       "      <td>False</td>\n",
       "      <td>False</td>\n",
       "      <td>False</td>\n",
       "      <td>False</td>\n",
       "      <td>False</td>\n",
       "      <td>False</td>\n",
       "    </tr>\n",
       "    <tr>\n",
       "      <th>1</th>\n",
       "      <td>False</td>\n",
       "      <td>False</td>\n",
       "      <td>False</td>\n",
       "      <td>False</td>\n",
       "      <td>False</td>\n",
       "      <td>False</td>\n",
       "    </tr>\n",
       "    <tr>\n",
       "      <th>2</th>\n",
       "      <td>False</td>\n",
       "      <td>False</td>\n",
       "      <td>False</td>\n",
       "      <td>False</td>\n",
       "      <td>False</td>\n",
       "      <td>False</td>\n",
       "    </tr>\n",
       "    <tr>\n",
       "      <th>3</th>\n",
       "      <td>False</td>\n",
       "      <td>False</td>\n",
       "      <td>False</td>\n",
       "      <td>False</td>\n",
       "      <td>False</td>\n",
       "      <td>False</td>\n",
       "    </tr>\n",
       "    <tr>\n",
       "      <th>4</th>\n",
       "      <td>False</td>\n",
       "      <td>False</td>\n",
       "      <td>False</td>\n",
       "      <td>False</td>\n",
       "      <td>False</td>\n",
       "      <td>False</td>\n",
       "    </tr>\n",
       "    <tr>\n",
       "      <th>...</th>\n",
       "      <td>...</td>\n",
       "      <td>...</td>\n",
       "      <td>...</td>\n",
       "      <td>...</td>\n",
       "      <td>...</td>\n",
       "      <td>...</td>\n",
       "    </tr>\n",
       "    <tr>\n",
       "      <th>815</th>\n",
       "      <td>False</td>\n",
       "      <td>False</td>\n",
       "      <td>False</td>\n",
       "      <td>False</td>\n",
       "      <td>False</td>\n",
       "      <td>False</td>\n",
       "    </tr>\n",
       "    <tr>\n",
       "      <th>816</th>\n",
       "      <td>False</td>\n",
       "      <td>False</td>\n",
       "      <td>False</td>\n",
       "      <td>False</td>\n",
       "      <td>False</td>\n",
       "      <td>False</td>\n",
       "    </tr>\n",
       "    <tr>\n",
       "      <th>817</th>\n",
       "      <td>False</td>\n",
       "      <td>False</td>\n",
       "      <td>False</td>\n",
       "      <td>False</td>\n",
       "      <td>False</td>\n",
       "      <td>False</td>\n",
       "    </tr>\n",
       "    <tr>\n",
       "      <th>818</th>\n",
       "      <td>False</td>\n",
       "      <td>False</td>\n",
       "      <td>False</td>\n",
       "      <td>False</td>\n",
       "      <td>False</td>\n",
       "      <td>False</td>\n",
       "    </tr>\n",
       "    <tr>\n",
       "      <th>819</th>\n",
       "      <td>False</td>\n",
       "      <td>False</td>\n",
       "      <td>False</td>\n",
       "      <td>False</td>\n",
       "      <td>False</td>\n",
       "      <td>False</td>\n",
       "    </tr>\n",
       "  </tbody>\n",
       "</table>\n",
       "<p>820 rows × 6 columns</p>\n",
       "</div>"
      ],
      "text/plain": [
       "      date  duration   item  month  network  network_type\n",
       "0    False     False  False  False    False         False\n",
       "1    False     False  False  False    False         False\n",
       "2    False     False  False  False    False         False\n",
       "3    False     False  False  False    False         False\n",
       "4    False     False  False  False    False         False\n",
       "..     ...       ...    ...    ...      ...           ...\n",
       "815  False     False  False  False    False         False\n",
       "816  False     False  False  False    False         False\n",
       "817  False     False  False  False    False         False\n",
       "818  False     False  False  False    False         False\n",
       "819  False     False  False  False    False         False\n",
       "\n",
       "[820 rows x 6 columns]"
      ]
     },
     "execution_count": 47,
     "metadata": {},
     "output_type": "execute_result"
    }
   ],
   "source": [
    "phone.isnull()"
   ]
  },
  {
   "cell_type": "code",
   "execution_count": 48,
   "id": "1fe7bd6f",
   "metadata": {},
   "outputs": [
    {
     "data": {
      "text/plain": [
       "date            0\n",
       "duration        0\n",
       "item            0\n",
       "month           0\n",
       "network         0\n",
       "network_type    0\n",
       "dtype: int64"
      ]
     },
     "execution_count": 48,
     "metadata": {},
     "output_type": "execute_result"
    }
   ],
   "source": [
    "phone.isnull().sum()"
   ]
  },
  {
   "cell_type": "code",
   "execution_count": 49,
   "id": "0de79b2a",
   "metadata": {},
   "outputs": [
    {
     "name": "stdout",
     "output_type": "stream",
     "text": [
      "<class 'pandas.core.frame.DataFrame'>\n",
      "RangeIndex: 820 entries, 0 to 819\n",
      "Data columns (total 6 columns):\n",
      " #   Column        Non-Null Count  Dtype  \n",
      "---  ------        --------------  -----  \n",
      " 0   date          820 non-null    object \n",
      " 1   duration      820 non-null    float64\n",
      " 2   item          820 non-null    object \n",
      " 3   month         820 non-null    object \n",
      " 4   network       820 non-null    object \n",
      " 5   network_type  820 non-null    object \n",
      "dtypes: float64(1), object(5)\n",
      "memory usage: 38.6+ KB\n"
     ]
    }
   ],
   "source": [
    "phone.info()"
   ]
  },
  {
   "cell_type": "code",
   "execution_count": 51,
   "id": "60921390",
   "metadata": {},
   "outputs": [],
   "source": [
    "phone[\"date\"]=pd.to_datetime(phone[\"date\"])\n",
    "phone[\"month\"]=pd.to_datetime(phone[\"month\"])"
   ]
  },
  {
   "cell_type": "code",
   "execution_count": 52,
   "id": "0df26caa",
   "metadata": {},
   "outputs": [
    {
     "data": {
      "text/html": [
       "<div>\n",
       "<style scoped>\n",
       "    .dataframe tbody tr th:only-of-type {\n",
       "        vertical-align: middle;\n",
       "    }\n",
       "\n",
       "    .dataframe tbody tr th {\n",
       "        vertical-align: top;\n",
       "    }\n",
       "\n",
       "    .dataframe thead th {\n",
       "        text-align: right;\n",
       "    }\n",
       "</style>\n",
       "<table border=\"1\" class=\"dataframe\">\n",
       "  <thead>\n",
       "    <tr style=\"text-align: right;\">\n",
       "      <th></th>\n",
       "      <th>date</th>\n",
       "      <th>duration</th>\n",
       "      <th>item</th>\n",
       "      <th>month</th>\n",
       "      <th>network</th>\n",
       "      <th>network_type</th>\n",
       "    </tr>\n",
       "  </thead>\n",
       "  <tbody>\n",
       "    <tr>\n",
       "      <th>0</th>\n",
       "      <td>2014-10-15 06:58:00</td>\n",
       "      <td>221.321120</td>\n",
       "      <td>data</td>\n",
       "      <td>2014-11-01</td>\n",
       "      <td>data</td>\n",
       "      <td>data</td>\n",
       "    </tr>\n",
       "    <tr>\n",
       "      <th>1</th>\n",
       "      <td>2014-10-15 06:58:00</td>\n",
       "      <td>81.610599</td>\n",
       "      <td>call</td>\n",
       "      <td>2014-11-01</td>\n",
       "      <td>Vodafone</td>\n",
       "      <td>mobile</td>\n",
       "    </tr>\n",
       "    <tr>\n",
       "      <th>2</th>\n",
       "      <td>2014-10-15 14:46:00</td>\n",
       "      <td>143.109111</td>\n",
       "      <td>call</td>\n",
       "      <td>2014-11-01</td>\n",
       "      <td>Meteor</td>\n",
       "      <td>mobile</td>\n",
       "    </tr>\n",
       "    <tr>\n",
       "      <th>3</th>\n",
       "      <td>2014-10-15 14:48:00</td>\n",
       "      <td>111.888670</td>\n",
       "      <td>call</td>\n",
       "      <td>2014-11-01</td>\n",
       "      <td>Tesco</td>\n",
       "      <td>mobile</td>\n",
       "    </tr>\n",
       "    <tr>\n",
       "      <th>4</th>\n",
       "      <td>2014-10-15 17:27:00</td>\n",
       "      <td>246.695171</td>\n",
       "      <td>call</td>\n",
       "      <td>2014-11-01</td>\n",
       "      <td>Tesco</td>\n",
       "      <td>mobile</td>\n",
       "    </tr>\n",
       "  </tbody>\n",
       "</table>\n",
       "</div>"
      ],
      "text/plain": [
       "                 date    duration  item      month   network network_type\n",
       "0 2014-10-15 06:58:00  221.321120  data 2014-11-01      data         data\n",
       "1 2014-10-15 06:58:00   81.610599  call 2014-11-01  Vodafone       mobile\n",
       "2 2014-10-15 14:46:00  143.109111  call 2014-11-01    Meteor       mobile\n",
       "3 2014-10-15 14:48:00  111.888670  call 2014-11-01     Tesco       mobile\n",
       "4 2014-10-15 17:27:00  246.695171  call 2014-11-01     Tesco       mobile"
      ]
     },
     "execution_count": 52,
     "metadata": {},
     "output_type": "execute_result"
    }
   ],
   "source": [
    "phone.head()"
   ]
  },
  {
   "cell_type": "code",
   "execution_count": null,
   "id": "66aade65",
   "metadata": {},
   "outputs": [],
   "source": [
    "a) With 95% & 99% Confidence Interval find the range estimate of average duration calls made by all the network. Which of the Intervals are wider? Interpret the results."
   ]
  },
  {
   "cell_type": "code",
   "execution_count": 53,
   "id": "253728e5",
   "metadata": {},
   "outputs": [
    {
     "name": "stdout",
     "output_type": "stream",
     "text": [
      "141.1778397288302 147.4320313908407\n"
     ]
    }
   ],
   "source": [
    "n=len(phone[\"duration\"])\n",
    "sigma = np.std(phone[\"duration\"],ddof=1)\n",
    "x_bar = np.mean(phone[\"duration\"])\n",
    "conf_lvl=0.95\n",
    "z = stats.norm.isf(0.025) \n",
    "ll = x_bar - (z*(sigma/n**0.5))\n",
    "ul = x_bar + (z*(sigma/n**0.5))\n",
    "print(ll,ul)"
   ]
  },
  {
   "cell_type": "code",
   "execution_count": 54,
   "id": "fd460020",
   "metadata": {},
   "outputs": [
    {
     "name": "stdout",
     "output_type": "stream",
     "text": [
      "140.19523500408818 148.41463611558274\n"
     ]
    }
   ],
   "source": [
    "n=len(phone[\"duration\"])\n",
    "sigma = np.std(phone[\"duration\"],ddof=1)\n",
    "x_bar = np.mean(phone[\"duration\"])\n",
    "conf_lvl=0.99\n",
    "z = stats.norm.isf(0.005) \n",
    "ll = x_bar - (z*(sigma/n**0.5))\n",
    "ul = x_bar + (z*(sigma/n**0.5))\n",
    "print(ll,ul)"
   ]
  },
  {
   "cell_type": "markdown",
   "id": "37104b89",
   "metadata": {},
   "source": [
    "INFERENCE\n",
    "\n",
    "With 95% of Confidence Interval the estimate range of average duration calls made by all the network is 140.67320165142863 146.9267983485714. With 99% of Confidence Interval the estimate range of average duration calls made by all the network is 139.690690402442 147.90930959755804.\n",
    "\n",
    "The 99% confidence interval has the wider average duration call than the 95% confidence interval"
   ]
  },
  {
   "cell_type": "code",
   "execution_count": null,
   "id": "2478f613",
   "metadata": {},
   "outputs": [],
   "source": []
  },
  {
   "cell_type": "code",
   "execution_count": null,
   "id": "f4107d7f",
   "metadata": {},
   "outputs": [],
   "source": []
  },
  {
   "cell_type": "code",
   "execution_count": null,
   "id": "41049cd0",
   "metadata": {},
   "outputs": [],
   "source": []
  },
  {
   "cell_type": "markdown",
   "id": "c6bf1f31",
   "metadata": {},
   "source": [
    "b) Perform statistical analysis to check whether the networks are equally distributed in the dataset."
   ]
  },
  {
   "cell_type": "code",
   "execution_count": 61,
   "id": "76316c2e",
   "metadata": {},
   "outputs": [
    {
     "data": {
      "text/plain": [
       "Three        215\n",
       "Vodafone     215\n",
       "data         150\n",
       "Meteor        87\n",
       "Tesco         84\n",
       "landline      42\n",
       "voicemail     27\n",
       "Name: network, dtype: int64"
      ]
     },
     "execution_count": 61,
     "metadata": {},
     "output_type": "execute_result"
    }
   ],
   "source": [
    "phone[\"network\"].value_counts()"
   ]
  },
  {
   "cell_type": "code",
   "execution_count": 62,
   "id": "fc421b68",
   "metadata": {},
   "outputs": [],
   "source": [
    "#1.HYPOTHESIS FORMATION:\n",
    "#ho: Observed=Expected (Networks are equally distributed)\n",
    "#ha: Observed!=Expected (Networks are not equally distributed)"
   ]
  },
  {
   "cell_type": "code",
   "execution_count": 63,
   "id": "8f7be36a",
   "metadata": {},
   "outputs": [],
   "source": [
    "expected_val=[117,117,117,117,117,117,117]\n",
    "observed_val=[215,215,150,87,84,42,27]"
   ]
  },
  {
   "cell_type": "code",
   "execution_count": 64,
   "id": "edb2315e",
   "metadata": {},
   "outputs": [
    {
     "data": {
      "text/plain": [
       "Power_divergenceResult(statistic=307.7863247863248, pvalue=1.7542899243536984e-63)"
      ]
     },
     "execution_count": 64,
     "metadata": {},
     "output_type": "execute_result"
    }
   ],
   "source": [
    "stats.chisquare(f_obs=observed_val,f_exp=expected_val)"
   ]
  },
  {
   "cell_type": "code",
   "execution_count": 65,
   "id": "c5fe6d8f",
   "metadata": {},
   "outputs": [],
   "source": [
    "#INTERPRETATION:\n",
    "\n",
    "# PVAL=0\n",
    "# sig_lvl=0.05\n",
    "# pval<sig_lvl\n",
    "# Ha is selected\n",
    "# Observed!=Expected\n",
    "# Networks are not equally distributed"
   ]
  },
  {
   "cell_type": "markdown",
   "id": "9f223b76",
   "metadata": {},
   "source": [
    "c) Plot the distribution of duration with respect to each network in the same graph and Interpret the results from the graph.\n"
   ]
  },
  {
   "cell_type": "code",
   "execution_count": 66,
   "id": "6d7f45a5",
   "metadata": {},
   "outputs": [
    {
     "data": {
      "text/plain": [
       "<AxesSubplot:xlabel='network', ylabel='duration'>"
      ]
     },
     "execution_count": 66,
     "metadata": {},
     "output_type": "execute_result"
    },
    {
     "data": {
      "image/png": "[encoded data removed]",
      "text/plain": [
       "<Figure size 432x288 with 1 Axes>"
      ]
     },
     "metadata": {
      "needs_background": "light"
     },
     "output_type": "display_data"
    }
   ],
   "source": [
    "sns.boxplot(y=phone[\"duration\"],x=phone[\"network\"])"
   ]
  },
  {
   "cell_type": "code",
   "execution_count": 67,
   "id": "6cb10359",
   "metadata": {},
   "outputs": [
    {
     "data": {
      "text/plain": [
       "<AxesSubplot:xlabel='network', ylabel='duration'>"
      ]
     },
     "execution_count": 67,
     "metadata": {},
     "output_type": "execute_result"
    },
    {
     "data": {
      "image/png": "[encoded data removed]",
      "text/plain": [
       "<Figure size 432x288 with 1 Axes>"
      ]
     },
     "metadata": {
      "needs_background": "light"
     },
     "output_type": "display_data"
    }
   ],
   "source": [
    "sns.barplot(y=phone[\"duration\"],x=phone[\"network\"])"
   ]
  },
  {
   "cell_type": "markdown",
   "id": "db3cff18",
   "metadata": {},
   "source": [
    "From the graph it is infered that Voicemail has the highest duration as this mean is over edged than the others 75th percentile\n",
    "\n",
    "Also Landline has the lowest duration"
   ]
  },
  {
   "cell_type": "code",
   "execution_count": null,
   "id": "82cb20c9",
   "metadata": {},
   "outputs": [],
   "source": []
  },
  {
   "cell_type": "markdown",
   "id": "34085f98",
   "metadata": {},
   "source": [
    "d) Perform statistical tests to identify the relation between item and duration. Detailed explanation of relation between the classes is required.\n"
   ]
  },
  {
   "cell_type": "code",
   "execution_count": 68,
   "id": "25e3f93a",
   "metadata": {},
   "outputs": [
    {
     "data": {
      "text/plain": [
       "call    388\n",
       "sms     282\n",
       "data    150\n",
       "Name: item, dtype: int64"
      ]
     },
     "execution_count": 68,
     "metadata": {},
     "output_type": "execute_result"
    }
   ],
   "source": [
    "phone[\"item\"].value_counts()"
   ]
  },
  {
   "cell_type": "code",
   "execution_count": 69,
   "id": "44240ddb",
   "metadata": {},
   "outputs": [],
   "source": [
    "call = phone[phone[\"item\"] == 'call'][\"duration\"]\n",
    "sms = phone[phone[\"item\"] == 'sms'][\"duration\"]\n",
    "data = phone[phone[\"item\"] == 'data'][\"duration\"]"
   ]
  },
  {
   "cell_type": "code",
   "execution_count": 70,
   "id": "0d706b23",
   "metadata": {},
   "outputs": [],
   "source": [
    "#1.HYpothesis Formation:\n",
    "# Ho:No relation between item and duration (mu1=mu2=mu3)\n",
    "# Ha:Relation between item and duration (Atleast one mean is not equal)"
   ]
  },
  {
   "cell_type": "code",
   "execution_count": 71,
   "id": "17a79c43",
   "metadata": {},
   "outputs": [
    {
     "name": "stdout",
     "output_type": "stream",
     "text": [
      "ShapiroResult(statistic=0.9973042011260986, pvalue=0.7803382277488708)\n",
      "ShapiroResult(statistic=0.9943404197692871, pvalue=0.37839275598526)\n",
      "ShapiroResult(statistic=0.9912639856338501, pvalue=0.48521795868873596)\n"
     ]
    }
   ],
   "source": [
    "# Test of Normality:\n",
    "\n",
    "#Ho :skew = 0\n",
    "#Ha: skew !=0\n",
    "\n",
    "print(stats.shapiro(call))\n",
    "print(stats.shapiro(sms))\n",
    "print(stats.shapiro(data))\n"
   ]
  },
  {
   "cell_type": "code",
   "execution_count": 72,
   "id": "8cdf5844",
   "metadata": {},
   "outputs": [],
   "source": [
    "# P_val > 0.05\n",
    "# All the data are normal"
   ]
  },
  {
   "cell_type": "code",
   "execution_count": 73,
   "id": "3168ba64",
   "metadata": {},
   "outputs": [],
   "source": [
    "#Test of Equality of Variance\n",
    "\n",
    "# Ho : All the variance are equal\n",
    "# Ha : Atleast one variance is different"
   ]
  },
  {
   "cell_type": "code",
   "execution_count": 74,
   "id": "f887f0ad",
   "metadata": {},
   "outputs": [
    {
     "data": {
      "text/plain": [
       "LeveneResult(statistic=3.4300976447008478, pvalue=0.03285087780533987)"
      ]
     },
     "execution_count": 74,
     "metadata": {},
     "output_type": "execute_result"
    }
   ],
   "source": [
    "stats.levene(call,sms,data)"
   ]
  },
  {
   "cell_type": "code",
   "execution_count": 75,
   "id": "c8af39fa",
   "metadata": {},
   "outputs": [],
   "source": [
    "# Pval > 0.05\n",
    "# All the variance is equal\n",
    "\n",
    "\n",
    "#Ho : All means are equal\n",
    "#Ha : Atleast one mean is different\n",
    "\n",
    "\n",
    "# Data is normal\n",
    "# Data has equal variance\n",
    "# Annova can be applied"
   ]
  },
  {
   "cell_type": "code",
   "execution_count": 76,
   "id": "bb2409fb",
   "metadata": {},
   "outputs": [
    {
     "data": {
      "text/plain": [
       "F_onewayResult(statistic=1.9313964906864995, pvalue=0.1456068656611744)"
      ]
     },
     "execution_count": 76,
     "metadata": {},
     "output_type": "execute_result"
    }
   ],
   "source": [
    "stats.f_oneway(call,sms,data)"
   ]
  },
  {
   "cell_type": "code",
   "execution_count": 77,
   "id": "ba6e817c",
   "metadata": {},
   "outputs": [],
   "source": [
    "# P_val = 0.14\n",
    "# Pval >sig_lvl(0.05)\n",
    "#Ho is selected\n",
    "#All the duration of different item is same.\n",
    "# There is no relation between them"
   ]
  },
  {
   "cell_type": "markdown",
   "id": "9ff79bac",
   "metadata": {},
   "source": [
    "e) Perform statistical tests to identify the relation between network and network_type."
   ]
  },
  {
   "cell_type": "code",
   "execution_count": 78,
   "id": "1f326584",
   "metadata": {
    "scrolled": true
   },
   "outputs": [
    {
     "data": {
      "text/plain": [
       "Three        215\n",
       "Vodafone     215\n",
       "data         150\n",
       "Meteor        87\n",
       "Tesco         84\n",
       "landline      42\n",
       "voicemail     27\n",
       "Name: network, dtype: int64"
      ]
     },
     "execution_count": 78,
     "metadata": {},
     "output_type": "execute_result"
    }
   ],
   "source": [
    "phone['network'].value_counts()"
   ]
  },
  {
   "cell_type": "code",
   "execution_count": 79,
   "id": "25e338ff",
   "metadata": {},
   "outputs": [
    {
     "data": {
      "text/plain": [
       "mobile       601\n",
       "data         150\n",
       "landline      42\n",
       "voicemail     27\n",
       "Name: network_type, dtype: int64"
      ]
     },
     "execution_count": 79,
     "metadata": {},
     "output_type": "execute_result"
    }
   ],
   "source": [
    "\n",
    "\n",
    "phone['network_type'].value_counts()"
   ]
  },
  {
   "cell_type": "code",
   "execution_count": 80,
   "id": "f7813b16",
   "metadata": {},
   "outputs": [],
   "source": [
    "#1.HYpothesis Formation:\n",
    "# ho:No relation between network and network_type\n",
    "# h1:Relation between network and network_type\n",
    "#2.CHOICE OF TEST: CHISQUARE-Test of Independence\n",
    "#3. cal ttest stat\n",
    "#4. pval\n",
    "#5. Interpretation"
   ]
  },
  {
   "cell_type": "code",
   "execution_count": 81,
   "id": "e584fbd8",
   "metadata": {
    "scrolled": true
   },
   "outputs": [
    {
     "data": {
      "text/html": [
       "<div>\n",
       "<style scoped>\n",
       "    .dataframe tbody tr th:only-of-type {\n",
       "        vertical-align: middle;\n",
       "    }\n",
       "\n",
       "    .dataframe tbody tr th {\n",
       "        vertical-align: top;\n",
       "    }\n",
       "\n",
       "    .dataframe thead th {\n",
       "        text-align: right;\n",
       "    }\n",
       "</style>\n",
       "<table border=\"1\" class=\"dataframe\">\n",
       "  <thead>\n",
       "    <tr style=\"text-align: right;\">\n",
       "      <th>network_type</th>\n",
       "      <th>data</th>\n",
       "      <th>landline</th>\n",
       "      <th>mobile</th>\n",
       "      <th>voicemail</th>\n",
       "    </tr>\n",
       "    <tr>\n",
       "      <th>network</th>\n",
       "      <th></th>\n",
       "      <th></th>\n",
       "      <th></th>\n",
       "      <th></th>\n",
       "    </tr>\n",
       "  </thead>\n",
       "  <tbody>\n",
       "    <tr>\n",
       "      <th>Meteor</th>\n",
       "      <td>0</td>\n",
       "      <td>0</td>\n",
       "      <td>87</td>\n",
       "      <td>0</td>\n",
       "    </tr>\n",
       "    <tr>\n",
       "      <th>Tesco</th>\n",
       "      <td>0</td>\n",
       "      <td>0</td>\n",
       "      <td>84</td>\n",
       "      <td>0</td>\n",
       "    </tr>\n",
       "    <tr>\n",
       "      <th>Three</th>\n",
       "      <td>0</td>\n",
       "      <td>0</td>\n",
       "      <td>215</td>\n",
       "      <td>0</td>\n",
       "    </tr>\n",
       "    <tr>\n",
       "      <th>Vodafone</th>\n",
       "      <td>0</td>\n",
       "      <td>0</td>\n",
       "      <td>215</td>\n",
       "      <td>0</td>\n",
       "    </tr>\n",
       "    <tr>\n",
       "      <th>data</th>\n",
       "      <td>150</td>\n",
       "      <td>0</td>\n",
       "      <td>0</td>\n",
       "      <td>0</td>\n",
       "    </tr>\n",
       "    <tr>\n",
       "      <th>landline</th>\n",
       "      <td>0</td>\n",
       "      <td>42</td>\n",
       "      <td>0</td>\n",
       "      <td>0</td>\n",
       "    </tr>\n",
       "    <tr>\n",
       "      <th>voicemail</th>\n",
       "      <td>0</td>\n",
       "      <td>0</td>\n",
       "      <td>0</td>\n",
       "      <td>27</td>\n",
       "    </tr>\n",
       "  </tbody>\n",
       "</table>\n",
       "</div>"
      ],
      "text/plain": [
       "network_type  data  landline  mobile  voicemail\n",
       "network                                        \n",
       "Meteor           0         0      87          0\n",
       "Tesco            0         0      84          0\n",
       "Three            0         0     215          0\n",
       "Vodafone         0         0     215          0\n",
       "data           150         0       0          0\n",
       "landline         0        42       0          0\n",
       "voicemail        0         0       0         27"
      ]
     },
     "execution_count": 81,
     "metadata": {},
     "output_type": "execute_result"
    }
   ],
   "source": [
    "obs=pd.crosstab(phone['network'],phone['network_type'])\n",
    "obs"
   ]
  },
  {
   "cell_type": "code",
   "execution_count": 82,
   "id": "f285c1e7",
   "metadata": {
    "scrolled": true
   },
   "outputs": [
    {
     "name": "stdout",
     "output_type": "stream",
     "text": [
      "test_stat: 2460.0\n",
      "pval: 0.0\n",
      "dof: 18\n",
      "exp: [[ 15.91463415   4.45609756  63.76463415   2.86463415]\n",
      " [ 15.36585366   4.30243902  61.56585366   2.76585366]\n",
      " [ 39.32926829  11.01219512 157.57926829   7.07926829]\n",
      " [ 39.32926829  11.01219512 157.57926829   7.07926829]\n",
      " [ 27.43902439   7.68292683 109.93902439   4.93902439]\n",
      " [  7.68292683   2.15121951  30.78292683   1.38292683]\n",
      " [  4.93902439   1.38292683  19.78902439   0.88902439]]\n"
     ]
    }
   ],
   "source": [
    "test_stat,pval,dof,exp = stats.chi2_contingency(obs)\n",
    "print(\"test_stat:\" ,test_stat)\n",
    "print(\"pval:\", pval)\n",
    "print(\"dof:\", dof)\n",
    "print(\"exp:\", exp)"
   ]
  },
  {
   "cell_type": "code",
   "execution_count": 83,
   "id": "ea8b9c5f",
   "metadata": {},
   "outputs": [],
   "source": [
    "#INTERPRETATION:\n",
    "\n",
    "# sig_lvl=0.05\n",
    "# pval=0\n",
    "# pval<sig_lvl\n",
    "# ho is rejected, ha is selected\n",
    "# network and network_type are dependent \n",
    "# There is a relation between network and network_type "
   ]
  },
  {
   "cell_type": "code",
   "execution_count": null,
   "id": "7de86653",
   "metadata": {},
   "outputs": [],
   "source": []
  }
 ],
 "metadata": {
  "kernelspec": {
   "display_name": "Python 3",
   "language": "python",
   "name": "python3"
  },
  "language_info": {
   "codemirror_mode": {
    "name": "ipython",
    "version": 3
   },
   "file_extension": ".py",
   "mimetype": "text/x-python",
   "name": "python",
   "nbconvert_exporter": "python",
   "pygments_lexer": "ipython3",
   "version": "3.8.8"
  }
 },
 "nbformat": 4,
 "nbformat_minor": 5
}
